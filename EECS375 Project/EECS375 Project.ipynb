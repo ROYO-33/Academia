{
 "cells": [
  {
   "cell_type": "markdown",
   "metadata": {},
   "source": [
    "# Introduction"
   ]
  },
  {
   "cell_type": "markdown",
   "metadata": {},
   "source": [
    "Our project for course EECS 375/475 is a recommendation system, using supervised learning to determine what category of products a person will most likely buy. \n",
    "\n",
    "We used free dataset found on Kaggle at https://www.kaggle.com/mehdidag/black-friday. The data contains more than 500k transactions done on black friday by thousands of people, and includes details about them (age, gender, etc.), which we used as inputs. We needed to use a hot one encoder to convert these categorical inputs.\n",
    "\n",
    "We decided to use 200k of the data for training and 200k for testing the model. As labels, we used the listed product category of each transactions.\n",
    "\n",
    "To measure our precision we used \"Success rate\" instead of misclassifications. Success rate is the percentage of people who bought from the category our model recommended, while misclassifications is valued for each transaction and is therefore less accurate (see project video for additional details)."
   ]
  },
  {
   "cell_type": "markdown",
   "metadata": {},
   "source": [
    "# Libraries and data loading"
   ]
  },
  {
   "cell_type": "code",
   "execution_count": 1,
   "metadata": {},
   "outputs": [],
   "source": [
    "# import autograd / numpy necessities\n",
    "%matplotlib inline\n",
    "import matplotlib.pyplot as plt\n",
    "from autograd import numpy as np\n",
    "import pandas as pd\n",
    "from autograd import grad\n",
    "from tqdm import tqdm\n",
    "\n",
    "# set path to datasets\n",
    "datapath = 'datasets/'\n",
    "\n",
    "# location of dataset. USE DATA PRE-SORTED BY USER_ID\n",
    "csvname = datapath + 'BlackFriday_train.csv'\n",
    "data = pd.read_csv(csvname).values.astype('str')\n",
    "titles = pd.read_csv(csvname).columns.values.astype('str')"
   ]
  },
  {
   "cell_type": "markdown",
   "metadata": {},
   "source": [
    "# One hot encoding"
   ]
  },
  {
   "cell_type": "code",
   "execution_count": 2,
   "metadata": {},
   "outputs": [],
   "source": [
    "# replace given column containing K unique values, with K binary (1/-1) columns\n",
    "def map_unique(data, titles, column):\n",
    "    \n",
    "    #create unique vals\n",
    "    column_name = titles[column]\n",
    "    unique_vals = np.unique(data[:,column])\n",
    "    for unique_val in unique_vals:\n",
    "        new_column = np.copy(data[:,column])\n",
    "        new_column[new_column==unique_val] = '1'\n",
    "        new_column[new_column!='1'] = '0'\n",
    "        data = np.insert(data,column+1,new_column,axis = 1)\n",
    "        titles = np.insert(titles,column+1,column_name + '_' + unique_val)\n",
    "        \n",
    "    #delete original column\n",
    "    data = np.delete(data,column,axis = 1)\n",
    "    titles = np.delete(titles,column)\n",
    "    return data"
   ]
  },
  {
   "cell_type": "code",
   "execution_count": 3,
   "metadata": {
    "scrolled": false
   },
   "outputs": [],
   "source": [
    "cols_to_map = range (1,7)\n",
    "for col_to_map in reversed(cols_to_map):\n",
    "    data = map_unique(data, titles, col_to_map)"
   ]
  },
  {
   "cell_type": "markdown",
   "metadata": {},
   "source": [
    "# Analysis using training data"
   ]
  },
  {
   "cell_type": "code",
   "execution_count": 4,
   "metadata": {},
   "outputs": [],
   "source": [
    "# multiclass softmax\n",
    "lam = 10**-5 # our regularization paramter\n",
    "def multiclass_softmax(w):\n",
    "    \n",
    "    # pre-compute predictions on all points\n",
    "    all_evals = model(x,w)\n",
    "    \n",
    "    # compute maximum across data points\n",
    "    a = np.log(np.sum(np.exp(all_evals), axis = 0))\n",
    "    \n",
    "    # compute cost in compact form using numpy broadcasting\n",
    "    b = all_evals[y.astype(int).flatten(),np.arange(np.size(y))]\n",
    "    cost = np.sum(a - b)\n",
    "    \n",
    "    # add regularizer\n",
    "    cost = cost + lam*np.linalg.norm(w[1:,:],'fro')**2\n",
    "    \n",
    "    # return average\n",
    "    return cost/float(np.size(y))\n",
    "\n",
    "# count how many costumers bought from the recommended category\n",
    "def count_success_rate(w):\n",
    "    decisions = np.argmax(model(x,w),axis = 0)\n",
    "    user_ids = data[:,0:1].astype(np.float)\n",
    "    users_num = len(np.unique(user_ids))\n",
    "    categories_lst = []\n",
    "    success = 0\n",
    "    for i in range(P-1):\n",
    "        if(user_ids[i+1] == user_ids[i]): # if it is the same costumer\n",
    "            categories_lst.append(y[0][i])\n",
    "        else: # if it is a different costumer\n",
    "            if(decisions[i] in categories_lst):\n",
    "                success += 1\n",
    "            categories_lst = []\n",
    "    return success / users_num * 100\n",
    "\n",
    "# gradient descent function that also calculates misclassifications and success\n",
    "def gradient_descent_with_mis_success(g,alpha,max_its,w):\n",
    "    \n",
    "    # compute gradient module using autograd\n",
    "    gradient = grad(g)\n",
    "\n",
    "    # run the gradient descent loop\n",
    "    cost_history = [g(w)] # cost function history container\n",
    "    mis_history = []\n",
    "    success_history = [count_success_rate(w)]\n",
    "    for k in tqdm(range(max_its)):\n",
    "        # evaluate the gradient\n",
    "        grad_eval = gradient(w)\n",
    "\n",
    "        # take gradient descent step\n",
    "        w = w - alpha*grad_eval\n",
    "        \n",
    "        # record weight and cost\n",
    "        cost_history.append(g(w))\n",
    "        \n",
    "        #count and record misclassifications\n",
    "        num_mis = 0\n",
    "        decisions = np.argmax(model(x,w),axis=0)\n",
    "        for i in range(P):\n",
    "            if (y[0][i] != decisions[i]):\n",
    "                num_mis += 1\n",
    "        mis_history.append(num_mis / P * 100)\n",
    "\n",
    "        #count and record success rate\n",
    "        success_rate = count_success_rate(w)\n",
    "        success_history.append(success_rate)\n",
    "    return w,cost_history,mis_history,success_history\n",
    "\n",
    "# cost function history plotter\n",
    "def plot_cost_histories(cost_histories,txt):\n",
    "    \n",
    "    # create figure\n",
    "    plt.figure()\n",
    "    plt.title(txt + \" over iterations\")\n",
    "    \n",
    "    # loop over cost histories and plot each one\n",
    "    for j in range(len(cost_histories)):\n",
    "        history = cost_histories[j]\n",
    "        plt.plot(history,label = txt)\n",
    "    plt.legend(loc='center left', bbox_to_anchor=(1, 0.5))\n",
    "    plt.show()\n",
    "\n",
    "# softmax cost\n",
    "def softmax(w):\n",
    "    cost = np.sum(np.log(1 + np.exp(-y*model(x,w))))\n",
    "    return cost/float(np.size(y))\n",
    "\n",
    "# linear model\n",
    "def model(x,w):\n",
    "    a = w[0] + np.dot(x.T,w[1:])\n",
    "    return a.T"
   ]
  },
  {
   "cell_type": "code",
   "execution_count": 5,
   "metadata": {
    "scrolled": false
   },
   "outputs": [
    {
     "name": "stderr",
     "output_type": "stream",
     "text": [
      "100%|████████████████████████████████████████| 150/150 [04:14<00:00,  1.65s/it]\n"
     ]
    },
    {
     "data": {
      "image/png": "[encoded data removed]",
      "text/plain": [
       "<Figure size 432x288 with 1 Axes>"
      ]
     },
     "metadata": {
      "needs_background": "light"
     },
     "output_type": "display_data"
    },
    {
     "data": {
      "image/png": "[encoded data removed]",
      "text/plain": [
       "<Figure size 432x288 with 1 Axes>"
      ]
     },
     "metadata": {
      "needs_background": "light"
     },
     "output_type": "display_data"
    },
    {
     "name": "stdout",
     "output_type": "stream",
     "text": [
      "misclassifications percent before optimizing: 86.45\n",
      "misclassifications percent after optimizing: 71.61\n"
     ]
    },
    {
     "data": {
      "image/png": "[encoded data removed]",
      "text/plain": [
       "<Figure size 432x288 with 1 Axes>"
      ]
     },
     "metadata": {
      "needs_background": "light"
     },
     "output_type": "display_data"
    },
    {
     "name": "stdout",
     "output_type": "stream",
     "text": [
      "Success rate before optimizing: 45.99\n",
      "Success rate after optimizing: 87.94\n"
     ]
    }
   ],
   "source": [
    "# get input/output\n",
    "x = data[:,2:40].astype(np.float).T\n",
    "y = data[:,41:42].astype(np.float).T - 1\n",
    "\n",
    "# vars initialization\n",
    "C = len(np.unique(y))\n",
    "P = np.size(y)\n",
    "N = len(x)\n",
    "w = np.random.randn(N+1,C)\n",
    "alpha = 1\n",
    "cost_histories, mis_histories, success_histoies = [],[],[]\n",
    "iterations = 150\n",
    "\n",
    "# create histories\n",
    "w, cost_history, mis_history, success_history = gradient_descent_with_mis_success(multiclass_softmax,alpha,iterations,w)\n",
    "cost_histories.append(cost_history)\n",
    "mis_histories.append(mis_history)\n",
    "success_histoies.append(success_history)\n",
    "\n",
    "# plot and print\n",
    "plot_cost_histories(cost_histories, \"Cost\") \n",
    "\n",
    "plot_cost_histories(mis_histories, \"Misclassifications percent\")\n",
    "print(\"misclassifications percent before optimizing: %.2f\" %mis_histories[0][0])\n",
    "print(\"misclassifications percent after optimizing: %.2f\" %mis_histories[0][-1])\n",
    "\n",
    "plot_cost_histories(success_histoies, \"Success rate\")\n",
    "print(\"Success rate before optimizing: %.2f\" %success_histoies[0][0])\n",
    "print(\"Success rate after optimizing: %.2f\" %success_histoies[0][-1])"
   ]
  },
  {
   "cell_type": "markdown",
   "metadata": {},
   "source": [
    "# Count success rate over testing data"
   ]
  },
  {
   "cell_type": "code",
   "execution_count": 6,
   "metadata": {},
   "outputs": [
    {
     "name": "stdout",
     "output_type": "stream",
     "text": [
      "Success rate after optimizing: 88.22\n"
     ]
    }
   ],
   "source": [
    "csvname = datapath + 'BlackFriday_test.csv'\n",
    "data = pd.read_csv(csvname).values.astype('str')\n",
    "\n",
    "for col_to_map in reversed(cols_to_map):\n",
    "    data = map_unique(data, titles, col_to_map)\n",
    "\n",
    "# get input/output\n",
    "x = data[:,2:40].astype(np.float).T\n",
    "y = data[:,41:42].astype(np.float).T - 1\n",
    "\n",
    "print(\"Success rate after optimizing: %.2f\" %count_success_rate(w))"
   ]
  }
 ],
 "metadata": {
  "kernelspec": {
   "display_name": "Python 3",
   "language": "python",
   "name": "python3"
  },
  "language_info": {
   "codemirror_mode": {
    "name": "ipython",
    "version": 3
   },
   "file_extension": ".py",
   "mimetype": "text/x-python",
   "name": "python",
   "nbconvert_exporter": "python",
   "pygments_lexer": "ipython3",
   "version": "3.7.0"
  }
 },
 "nbformat": 4,
 "nbformat_minor": 2
}
